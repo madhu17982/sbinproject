{
 "cells": [
  {
   "cell_type": "code",
   "execution_count": 1,
   "id": "8fad035e",
   "metadata": {},
   "outputs": [],
   "source": [
    "import pandas as pd\n",
    "from pandas import DataFrame\n",
    "import matplotlib.pyplot as plt\n",
    "from datetime import datetime\n",
    "import pandas as pan\n",
    "from nsepy import get_history\n",
    "import matplotlib as mlt\n",
    "import datetime as date\n",
    "import datetime \n",
    "from datetime import date\n",
    "import numpy as np"
   ]
  },
  {
   "cell_type": "code",
   "execution_count": null,
   "id": "4592fb97",
   "metadata": {},
   "outputs": [],
   "source": []
  },
  {
   "cell_type": "code",
   "execution_count": 2,
   "id": "3288098d",
   "metadata": {},
   "outputs": [],
   "source": [
    "#end = datetime.date.today()\n",
    "end = date(2021,9,25)\n",
    "start = date(2020,1,1)"
   ]
  },
  {
   "cell_type": "code",
   "execution_count": 3,
   "id": "e15e212a",
   "metadata": {},
   "outputs": [],
   "source": [
    "df= get_history('SBIN',start,end)"
   ]
  },
  {
   "cell_type": "code",
   "execution_count": 4,
   "id": "922ab608",
   "metadata": {},
   "outputs": [
    {
     "data": {
      "text/html": [
       "<div>\n",
       "<style scoped>\n",
       "    .dataframe tbody tr th:only-of-type {\n",
       "        vertical-align: middle;\n",
       "    }\n",
       "\n",
       "    .dataframe tbody tr th {\n",
       "        vertical-align: top;\n",
       "    }\n",
       "\n",
       "    .dataframe thead th {\n",
       "        text-align: right;\n",
       "    }\n",
       "</style>\n",
       "<table border=\"1\" class=\"dataframe\">\n",
       "  <thead>\n",
       "    <tr style=\"text-align: right;\">\n",
       "      <th></th>\n",
       "      <th>Symbol</th>\n",
       "      <th>Series</th>\n",
       "      <th>Prev Close</th>\n",
       "      <th>Open</th>\n",
       "      <th>High</th>\n",
       "      <th>Low</th>\n",
       "      <th>Last</th>\n",
       "      <th>Close</th>\n",
       "      <th>VWAP</th>\n",
       "      <th>Volume</th>\n",
       "      <th>Turnover</th>\n",
       "      <th>Trades</th>\n",
       "      <th>Deliverable Volume</th>\n",
       "      <th>%Deliverble</th>\n",
       "    </tr>\n",
       "    <tr>\n",
       "      <th>Date</th>\n",
       "      <th></th>\n",
       "      <th></th>\n",
       "      <th></th>\n",
       "      <th></th>\n",
       "      <th></th>\n",
       "      <th></th>\n",
       "      <th></th>\n",
       "      <th></th>\n",
       "      <th></th>\n",
       "      <th></th>\n",
       "      <th></th>\n",
       "      <th></th>\n",
       "      <th></th>\n",
       "      <th></th>\n",
       "    </tr>\n",
       "  </thead>\n",
       "  <tbody>\n",
       "    <tr>\n",
       "      <th>2020-01-01</th>\n",
       "      <td>SBIN</td>\n",
       "      <td>EQ</td>\n",
       "      <td>333.75</td>\n",
       "      <td>334.70</td>\n",
       "      <td>335.95</td>\n",
       "      <td>332.15</td>\n",
       "      <td>335.0</td>\n",
       "      <td>334.45</td>\n",
       "      <td>334.03</td>\n",
       "      <td>17379320</td>\n",
       "      <td>5.805130e+14</td>\n",
       "      <td>99108</td>\n",
       "      <td>1850790</td>\n",
       "      <td>0.1065</td>\n",
       "    </tr>\n",
       "    <tr>\n",
       "      <th>2020-01-02</th>\n",
       "      <td>SBIN</td>\n",
       "      <td>EQ</td>\n",
       "      <td>334.45</td>\n",
       "      <td>334.50</td>\n",
       "      <td>339.85</td>\n",
       "      <td>333.35</td>\n",
       "      <td>338.8</td>\n",
       "      <td>339.30</td>\n",
       "      <td>336.81</td>\n",
       "      <td>20324236</td>\n",
       "      <td>6.845341e+14</td>\n",
       "      <td>123189</td>\n",
       "      <td>4239894</td>\n",
       "      <td>0.2086</td>\n",
       "    </tr>\n",
       "    <tr>\n",
       "      <th>2020-01-03</th>\n",
       "      <td>SBIN</td>\n",
       "      <td>EQ</td>\n",
       "      <td>339.30</td>\n",
       "      <td>337.95</td>\n",
       "      <td>337.95</td>\n",
       "      <td>332.00</td>\n",
       "      <td>334.0</td>\n",
       "      <td>333.70</td>\n",
       "      <td>335.08</td>\n",
       "      <td>21853208</td>\n",
       "      <td>7.322600e+14</td>\n",
       "      <td>139793</td>\n",
       "      <td>6309081</td>\n",
       "      <td>0.2887</td>\n",
       "    </tr>\n",
       "    <tr>\n",
       "      <th>2020-01-06</th>\n",
       "      <td>SBIN</td>\n",
       "      <td>EQ</td>\n",
       "      <td>333.70</td>\n",
       "      <td>331.70</td>\n",
       "      <td>331.70</td>\n",
       "      <td>317.70</td>\n",
       "      <td>318.4</td>\n",
       "      <td>319.00</td>\n",
       "      <td>322.03</td>\n",
       "      <td>35645325</td>\n",
       "      <td>1.147882e+15</td>\n",
       "      <td>280646</td>\n",
       "      <td>8731362</td>\n",
       "      <td>0.2450</td>\n",
       "    </tr>\n",
       "    <tr>\n",
       "      <th>2020-01-07</th>\n",
       "      <td>SBIN</td>\n",
       "      <td>EQ</td>\n",
       "      <td>319.00</td>\n",
       "      <td>324.45</td>\n",
       "      <td>327.00</td>\n",
       "      <td>315.40</td>\n",
       "      <td>317.9</td>\n",
       "      <td>318.40</td>\n",
       "      <td>320.38</td>\n",
       "      <td>50966826</td>\n",
       "      <td>1.632868e+15</td>\n",
       "      <td>310782</td>\n",
       "      <td>9993754</td>\n",
       "      <td>0.1961</td>\n",
       "    </tr>\n",
       "  </tbody>\n",
       "</table>\n",
       "</div>"
      ],
      "text/plain": [
       "           Symbol Series  Prev Close    Open    High     Low   Last   Close  \\\n",
       "Date                                                                          \n",
       "2020-01-01   SBIN     EQ      333.75  334.70  335.95  332.15  335.0  334.45   \n",
       "2020-01-02   SBIN     EQ      334.45  334.50  339.85  333.35  338.8  339.30   \n",
       "2020-01-03   SBIN     EQ      339.30  337.95  337.95  332.00  334.0  333.70   \n",
       "2020-01-06   SBIN     EQ      333.70  331.70  331.70  317.70  318.4  319.00   \n",
       "2020-01-07   SBIN     EQ      319.00  324.45  327.00  315.40  317.9  318.40   \n",
       "\n",
       "              VWAP    Volume      Turnover  Trades  Deliverable Volume  \\\n",
       "Date                                                                     \n",
       "2020-01-01  334.03  17379320  5.805130e+14   99108             1850790   \n",
       "2020-01-02  336.81  20324236  6.845341e+14  123189             4239894   \n",
       "2020-01-03  335.08  21853208  7.322600e+14  139793             6309081   \n",
       "2020-01-06  322.03  35645325  1.147882e+15  280646             8731362   \n",
       "2020-01-07  320.38  50966826  1.632868e+15  310782             9993754   \n",
       "\n",
       "            %Deliverble  \n",
       "Date                     \n",
       "2020-01-01       0.1065  \n",
       "2020-01-02       0.2086  \n",
       "2020-01-03       0.2887  \n",
       "2020-01-06       0.2450  \n",
       "2020-01-07       0.1961  "
      ]
     },
     "execution_count": 4,
     "metadata": {},
     "output_type": "execute_result"
    }
   ],
   "source": [
    "df.head()"
   ]
  },
  {
   "cell_type": "code",
   "execution_count": 5,
   "id": "ab8a87ad",
   "metadata": {},
   "outputs": [],
   "source": [
    "df = df[['Open']]"
   ]
  },
  {
   "cell_type": "code",
   "execution_count": 6,
   "id": "33631dec",
   "metadata": {},
   "outputs": [
    {
     "data": {
      "text/plain": [
       "<AxesSubplot:xlabel='Date'>"
      ]
     },
     "execution_count": 6,
     "metadata": {},
     "output_type": "execute_result"
    },
    {
     "data": {
      "image/png": "[encoded data removed]",
      "text/plain": [
       "<Figure size 864x576 with 1 Axes>"
      ]
     },
     "metadata": {
      "needs_background": "light"
     },
     "output_type": "display_data"
    }
   ],
   "source": [
    "df.plot(figsize=(12,8))"
   ]
  },
  {
   "cell_type": "code",
   "execution_count": 7,
   "id": "557c804b",
   "metadata": {},
   "outputs": [
    {
     "data": {
      "text/plain": [
       "433"
      ]
     },
     "execution_count": 7,
     "metadata": {},
     "output_type": "execute_result"
    }
   ],
   "source": [
    "len(df)"
   ]
  },
  {
   "cell_type": "code",
   "execution_count": 9,
   "id": "d36e8e41",
   "metadata": {},
   "outputs": [],
   "source": [
    "test_percent = 0.2   #spliting 10 % of data to test set"
   ]
  },
  {
   "cell_type": "code",
   "execution_count": 10,
   "id": "c2ead875",
   "metadata": {},
   "outputs": [
    {
     "data": {
      "text/plain": [
       "86.60000000000001"
      ]
     },
     "execution_count": 10,
     "metadata": {},
     "output_type": "execute_result"
    }
   ],
   "source": [
    "len(df)*test_percent # 10 percent = 50 records"
   ]
  },
  {
   "cell_type": "code",
   "execution_count": 11,
   "id": "348e6c59",
   "metadata": {},
   "outputs": [],
   "source": [
    "test_point = np.round(len(df)*test_percent)"
   ]
  },
  {
   "cell_type": "code",
   "execution_count": 12,
   "id": "fdb54724",
   "metadata": {},
   "outputs": [],
   "source": [
    "test_ind = int(len(df) - test_point)"
   ]
  },
  {
   "cell_type": "code",
   "execution_count": 13,
   "id": "e6220348",
   "metadata": {},
   "outputs": [
    {
     "data": {
      "text/plain": [
       "346"
      ]
     },
     "execution_count": 13,
     "metadata": {},
     "output_type": "execute_result"
    }
   ],
   "source": [
    "test_ind"
   ]
  },
  {
   "cell_type": "code",
   "execution_count": 14,
   "id": "3ee4d178",
   "metadata": {},
   "outputs": [],
   "source": [
    "train = df.iloc[:test_ind]\n",
    "test = df.iloc[test_ind:]"
   ]
  },
  {
   "cell_type": "code",
   "execution_count": 15,
   "id": "0e226b7c",
   "metadata": {},
   "outputs": [
    {
     "data": {
      "text/plain": [
       "346"
      ]
     },
     "execution_count": 15,
     "metadata": {},
     "output_type": "execute_result"
    }
   ],
   "source": [
    "len(train)"
   ]
  },
  {
   "cell_type": "code",
   "execution_count": 16,
   "id": "e5fb747c",
   "metadata": {},
   "outputs": [
    {
     "data": {
      "text/plain": [
       "87"
      ]
     },
     "execution_count": 16,
     "metadata": {},
     "output_type": "execute_result"
    }
   ],
   "source": [
    "len(test)"
   ]
  },
  {
   "cell_type": "code",
   "execution_count": 17,
   "id": "62a97246",
   "metadata": {},
   "outputs": [],
   "source": [
    "from sklearn.preprocessing import MinMaxScaler"
   ]
  },
  {
   "cell_type": "code",
   "execution_count": 18,
   "id": "4ab2896c",
   "metadata": {},
   "outputs": [],
   "source": [
    "scaler = MinMaxScaler()"
   ]
  },
  {
   "cell_type": "code",
   "execution_count": 19,
   "id": "ea78a3cc",
   "metadata": {},
   "outputs": [
    {
     "data": {
      "text/plain": [
       "MinMaxScaler()"
      ]
     },
     "execution_count": 19,
     "metadata": {},
     "output_type": "execute_result"
    }
   ],
   "source": [
    "scaler.fit(train)"
   ]
  },
  {
   "cell_type": "code",
   "execution_count": 20,
   "id": "ac136960",
   "metadata": {},
   "outputs": [],
   "source": [
    "scaled_train = scaler.transform(train)\n",
    "scaled_test = scaler.transform(test)"
   ]
  },
  {
   "cell_type": "code",
   "execution_count": 21,
   "id": "a72e9459",
   "metadata": {},
   "outputs": [],
   "source": [
    "from tensorflow.keras.preprocessing.sequence import TimeseriesGenerator"
   ]
  },
  {
   "cell_type": "code",
   "execution_count": 22,
   "id": "1289362d",
   "metadata": {},
   "outputs": [],
   "source": [
    "\n",
    "length = 1\n",
    "generator = TimeseriesGenerator(scaled_train, scaled_train, length=length, batch_size=1)"
   ]
  },
  {
   "cell_type": "code",
   "execution_count": 23,
   "id": "3fb4089f",
   "metadata": {},
   "outputs": [],
   "source": [
    "X,y = generator[0]"
   ]
  },
  {
   "cell_type": "code",
   "execution_count": 24,
   "id": "cab5634d",
   "metadata": {},
   "outputs": [
    {
     "name": "stdout",
     "output_type": "stream",
     "text": [
      "Given the Array: \n",
      "[0.6691688]\n",
      "Predict this y: \n",
      " [[0.66843647]]\n"
     ]
    }
   ],
   "source": [
    "print(f'Given the Array: \\n{X.flatten()}')\n",
    "print(f'Predict this y: \\n {y}')"
   ]
  },
  {
   "cell_type": "code",
   "execution_count": 25,
   "id": "3d86dd11",
   "metadata": {},
   "outputs": [],
   "source": [
    "from tensorflow.keras.models import Sequential\n",
    "from tensorflow.keras.layers import Dense\n",
    "from tensorflow.keras.layers import LSTM"
   ]
  },
  {
   "cell_type": "code",
   "execution_count": 26,
   "id": "ff838ecc",
   "metadata": {},
   "outputs": [],
   "source": [
    "# We're only using one feature in our time series\n",
    "n_features = 1"
   ]
  },
  {
   "cell_type": "code",
   "execution_count": 27,
   "id": "2f0c7502",
   "metadata": {},
   "outputs": [],
   "source": [
    "# define model\n",
    "model = Sequential()\n",
    "model.add(LSTM(100, activation='relu', input_shape=(length, n_features)))\n",
    "\n",
    "\n",
    "model.add(Dense(1))\n",
    "model.compile(optimizer='adam', loss='mse')"
   ]
  },
  {
   "cell_type": "code",
   "execution_count": 28,
   "id": "321d3cd2",
   "metadata": {},
   "outputs": [
    {
     "name": "stdout",
     "output_type": "stream",
     "text": [
      "Model: \"sequential\"\n",
      "_________________________________________________________________\n",
      "Layer (type)                 Output Shape              Param #   \n",
      "=================================================================\n",
      "lstm (LSTM)                  (None, 100)               40800     \n",
      "_________________________________________________________________\n",
      "dense (Dense)                (None, 1)                 101       \n",
      "=================================================================\n",
      "Total params: 40,901\n",
      "Trainable params: 40,901\n",
      "Non-trainable params: 0\n",
      "_________________________________________________________________\n"
     ]
    }
   ],
   "source": [
    "model.summary()"
   ]
  },
  {
   "cell_type": "code",
   "execution_count": 29,
   "id": "db88fa1f",
   "metadata": {},
   "outputs": [],
   "source": [
    "from tensorflow.keras.callbacks import EarlyStopping"
   ]
  },
  {
   "cell_type": "code",
   "execution_count": 30,
   "id": "57686a32",
   "metadata": {},
   "outputs": [],
   "source": [
    "early_stop = EarlyStopping(monitor='val_loss',patience=2)"
   ]
  },
  {
   "cell_type": "code",
   "execution_count": 31,
   "id": "15cbbc10",
   "metadata": {},
   "outputs": [],
   "source": [
    "validation_generator = TimeseriesGenerator(scaled_test,scaled_test, length=length, batch_size=1)"
   ]
  },
  {
   "cell_type": "code",
   "execution_count": 32,
   "id": "d6c7caa3",
   "metadata": {},
   "outputs": [
    {
     "name": "stderr",
     "output_type": "stream",
     "text": [
      "C:\\ProgramData\\Anaconda3\\lib\\site-packages\\keras\\engine\\training.py:1972: UserWarning: `Model.fit_generator` is deprecated and will be removed in a future version. Please use `Model.fit`, which supports generators.\n",
      "  warnings.warn('`Model.fit_generator` is deprecated and '\n"
     ]
    },
    {
     "name": "stdout",
     "output_type": "stream",
     "text": [
      "Epoch 1/20\n",
      "345/345 [==============================] - 7s 6ms/step - loss: 0.0532 - val_loss: 0.0294\n",
      "Epoch 2/20\n",
      "345/345 [==============================] - 2s 6ms/step - loss: 0.0069 - val_loss: 7.9225e-04\n",
      "Epoch 3/20\n",
      "345/345 [==============================] - 2s 6ms/step - loss: 0.0013 - val_loss: 0.0025\n",
      "Epoch 4/20\n",
      "345/345 [==============================] - 2s 5ms/step - loss: 0.0011 - val_loss: 0.0044\n"
     ]
    },
    {
     "data": {
      "text/plain": [
       "<keras.callbacks.History at 0x2493df35220>"
      ]
     },
     "execution_count": 32,
     "metadata": {},
     "output_type": "execute_result"
    }
   ],
   "source": [
    "# fit model\n",
    "model.fit_generator(generator,epochs=20,\n",
    "                    validation_data=validation_generator,\n",
    "                   callbacks=[early_stop])"
   ]
  },
  {
   "cell_type": "code",
   "execution_count": 33,
   "id": "a1684abf",
   "metadata": {},
   "outputs": [],
   "source": [
    "losses = pd.DataFrame(model.history.history)"
   ]
  },
  {
   "cell_type": "code",
   "execution_count": 34,
   "id": "b0402758",
   "metadata": {},
   "outputs": [
    {
     "data": {
      "text/plain": [
       "<AxesSubplot:>"
      ]
     },
     "execution_count": 34,
     "metadata": {},
     "output_type": "execute_result"
    },
    {
     "data": {
      "image/png": "[encoded data removed]",
      "text/plain": [
       "<Figure size 432x288 with 1 Axes>"
      ]
     },
     "metadata": {
      "needs_background": "light"
     },
     "output_type": "display_data"
    }
   ],
   "source": [
    "losses.plot()"
   ]
  },
  {
   "cell_type": "code",
   "execution_count": 50,
   "id": "500aa9bd",
   "metadata": {},
   "outputs": [],
   "source": [
    "test_predictions = []\n",
    "\n",
    "first_eval_batch = scaled_train[-length:]\n",
    "current_batch = first_eval_batch.reshape((1, length, n_features))\n",
    "\n",
    "for i in range(len(test)):\n",
    "    \n",
    "    # get prediction 1 time stamp ahead ([0] is for grabbing just the number instead of [array])\n",
    "    current_pred = model.predict(current_batch)[0]\n",
    "    \n",
    "    # store prediction\n",
    "    test_predictions.append(current_pred) \n",
    "    \n",
    "    # update batch to now include prediction and drop first value\n",
    "    current_batch = np.append(current_batch[:,1:,:],[[current_pred]],axis=1)"
   ]
  },
  {
   "cell_type": "code",
   "execution_count": 51,
   "id": "1be58b83",
   "metadata": {},
   "outputs": [],
   "source": [
    "true_predictions = scaler.inverse_transform(test_predictions)"
   ]
  },
  {
   "cell_type": "code",
   "execution_count": 52,
   "id": "1e4c8f9e",
   "metadata": {},
   "outputs": [
    {
     "data": {
      "text/plain": [
       "array([[3.97731724e+02],\n",
       "       [4.06983260e+02],\n",
       "       [4.18182642e+02],\n",
       "       [4.31928379e+02],\n",
       "       [4.49078128e+02],\n",
       "       [4.70754179e+02],\n",
       "       [4.98776609e+02],\n",
       "       [5.36154544e+02],\n",
       "       [5.88030537e+02],\n",
       "       [6.63827223e+02],\n",
       "       [7.82392509e+02],\n",
       "       [9.86239981e+02],\n",
       "       [1.38636577e+03],\n",
       "       [2.32736956e+03],\n",
       "       [5.01291570e+03],\n",
       "       [1.29996921e+04],\n",
       "       [3.48973117e+04],\n",
       "       [9.40863069e+04],\n",
       "       [2.54024220e+05],\n",
       "       [6.86117609e+05],\n",
       "       [1.85322266e+06],\n",
       "       [5.00583599e+06],\n",
       "       [1.35219133e+07],\n",
       "       [3.65261931e+07],\n",
       "       [9.86671281e+07],\n",
       "       [2.66526976e+08],\n",
       "       [7.19962963e+08],\n",
       "       [1.94481872e+09],\n",
       "       [5.25349322e+09],\n",
       "       [1.41911359e+10],\n",
       "       [3.83341820e+10],\n",
       "       [1.03551235e+11],\n",
       "       [2.79720556e+11],\n",
       "       [7.55602698e+11],\n",
       "       [2.04109190e+12],\n",
       "       [5.51355317e+12],\n",
       "       [1.48936327e+13],\n",
       "       [4.02318292e+13],\n",
       "       [1.08677324e+14],\n",
       "       [2.93567533e+14],\n",
       "       [7.93007167e+14],\n",
       "       [2.14213173e+15],\n",
       "       [5.78648993e+15],\n",
       "       [1.56309124e+16],\n",
       "       [4.22234177e+16],\n",
       "       [1.14057127e+17],\n",
       "       [3.08099836e+17],\n",
       "       [8.32262853e+17],\n",
       "       [2.24817242e+18],\n",
       "       [6.07293523e+18],\n",
       "       [1.64046798e+19],\n",
       "       [4.43135764e+19],\n",
       "       [1.19703231e+20],\n",
       "       [3.23351571e+20],\n",
       "       [8.73462140e+20],\n",
       "       [2.35946322e+21],\n",
       "       [6.37356295e+21],\n",
       "       [1.72167567e+22],\n",
       "       [4.65072185e+22],\n",
       "       [1.25628879e+23],\n",
       "       [3.39358363e+23],\n",
       "       [9.16701010e+23],\n",
       "       [2.47626328e+24],\n",
       "       [6.68907211e+24],\n",
       "       [1.80690351e+25],\n",
       "       [4.88094556e+25],\n",
       "       [1.31847840e+26],\n",
       "       [3.56157560e+26],\n",
       "       [9.62080087e+26],\n",
       "       [2.59884438e+27],\n",
       "       [7.02019625e+27],\n",
       "       [1.89634925e+28],\n",
       "       [5.12256437e+28],\n",
       "       [1.38374661e+29],\n",
       "       [3.73788224e+29],\n",
       "       [1.00970557e+30],\n",
       "       [2.72749418e+30],\n",
       "       [7.36771603e+30],\n",
       "       [1.99022418e+31],\n",
       "       [5.37614568e+31],\n",
       "       [1.45224585e+32],\n",
       "       [3.92291782e+32],\n",
       "       [1.05968874e+33],\n",
       "       [2.86251297e+33],\n",
       "       [7.73244053e+33],\n",
       "       [2.08874588e+34],\n",
       "       [5.64228104e+34]])"
      ]
     },
     "execution_count": 52,
     "metadata": {},
     "output_type": "execute_result"
    }
   ],
   "source": [
    "true_predictions "
   ]
  },
  {
   "cell_type": "code",
   "execution_count": 53,
   "id": "108780e7",
   "metadata": {},
   "outputs": [
    {
     "name": "stderr",
     "output_type": "stream",
     "text": [
      "<ipython-input-53-920b79c3c314>:1: SettingWithCopyWarning: \n",
      "A value is trying to be set on a copy of a slice from a DataFrame.\n",
      "Try using .loc[row_indexer,col_indexer] = value instead\n",
      "\n",
      "See the caveats in the documentation: https://pandas.pydata.org/pandas-docs/stable/user_guide/indexing.html#returning-a-view-versus-a-copy\n",
      "  test['Predictions'] = true_predictions\n"
     ]
    }
   ],
   "source": [
    "test['Predictions'] = true_predictions"
   ]
  },
  {
   "cell_type": "code",
   "execution_count": 54,
   "id": "498b0588",
   "metadata": {},
   "outputs": [
    {
     "data": {
      "text/html": [
       "<div>\n",
       "<style scoped>\n",
       "    .dataframe tbody tr th:only-of-type {\n",
       "        vertical-align: middle;\n",
       "    }\n",
       "\n",
       "    .dataframe tbody tr th {\n",
       "        vertical-align: top;\n",
       "    }\n",
       "\n",
       "    .dataframe thead th {\n",
       "        text-align: right;\n",
       "    }\n",
       "</style>\n",
       "<table border=\"1\" class=\"dataframe\">\n",
       "  <thead>\n",
       "    <tr style=\"text-align: right;\">\n",
       "      <th></th>\n",
       "      <th>Open</th>\n",
       "      <th>Predictions</th>\n",
       "    </tr>\n",
       "    <tr>\n",
       "      <th>Date</th>\n",
       "      <th></th>\n",
       "      <th></th>\n",
       "    </tr>\n",
       "  </thead>\n",
       "  <tbody>\n",
       "    <tr>\n",
       "      <th>2021-05-24</th>\n",
       "      <td>417.00</td>\n",
       "      <td>3.977317e+02</td>\n",
       "    </tr>\n",
       "    <tr>\n",
       "      <th>2021-05-25</th>\n",
       "      <td>415.10</td>\n",
       "      <td>4.069833e+02</td>\n",
       "    </tr>\n",
       "    <tr>\n",
       "      <th>2021-05-26</th>\n",
       "      <td>413.80</td>\n",
       "      <td>4.181826e+02</td>\n",
       "    </tr>\n",
       "    <tr>\n",
       "      <th>2021-05-27</th>\n",
       "      <td>413.70</td>\n",
       "      <td>4.319284e+02</td>\n",
       "    </tr>\n",
       "    <tr>\n",
       "      <th>2021-05-28</th>\n",
       "      <td>430.50</td>\n",
       "      <td>4.490781e+02</td>\n",
       "    </tr>\n",
       "    <tr>\n",
       "      <th>...</th>\n",
       "      <td>...</td>\n",
       "      <td>...</td>\n",
       "    </tr>\n",
       "    <tr>\n",
       "      <th>2021-09-20</th>\n",
       "      <td>449.40</td>\n",
       "      <td>1.059689e+33</td>\n",
       "    </tr>\n",
       "    <tr>\n",
       "      <th>2021-09-21</th>\n",
       "      <td>440.15</td>\n",
       "      <td>2.862513e+33</td>\n",
       "    </tr>\n",
       "    <tr>\n",
       "      <th>2021-09-22</th>\n",
       "      <td>438.90</td>\n",
       "      <td>7.732441e+33</td>\n",
       "    </tr>\n",
       "    <tr>\n",
       "      <th>2021-09-23</th>\n",
       "      <td>442.40</td>\n",
       "      <td>2.088746e+34</td>\n",
       "    </tr>\n",
       "    <tr>\n",
       "      <th>2021-09-24</th>\n",
       "      <td>451.10</td>\n",
       "      <td>5.642281e+34</td>\n",
       "    </tr>\n",
       "  </tbody>\n",
       "</table>\n",
       "<p>87 rows × 2 columns</p>\n",
       "</div>"
      ],
      "text/plain": [
       "              Open   Predictions\n",
       "Date                            \n",
       "2021-05-24  417.00  3.977317e+02\n",
       "2021-05-25  415.10  4.069833e+02\n",
       "2021-05-26  413.80  4.181826e+02\n",
       "2021-05-27  413.70  4.319284e+02\n",
       "2021-05-28  430.50  4.490781e+02\n",
       "...            ...           ...\n",
       "2021-09-20  449.40  1.059689e+33\n",
       "2021-09-21  440.15  2.862513e+33\n",
       "2021-09-22  438.90  7.732441e+33\n",
       "2021-09-23  442.40  2.088746e+34\n",
       "2021-09-24  451.10  5.642281e+34\n",
       "\n",
       "[87 rows x 2 columns]"
      ]
     },
     "execution_count": 54,
     "metadata": {},
     "output_type": "execute_result"
    }
   ],
   "source": [
    "test"
   ]
  },
  {
   "cell_type": "code",
   "execution_count": 55,
   "id": "1a7ea052",
   "metadata": {},
   "outputs": [
    {
     "data": {
      "text/plain": [
       "<AxesSubplot:xlabel='Date'>"
      ]
     },
     "execution_count": 55,
     "metadata": {},
     "output_type": "execute_result"
    },
    {
     "data": {
      "image/png": "[encoded data removed]",
      "text/plain": [
       "<Figure size 864x576 with 1 Axes>"
      ]
     },
     "metadata": {
      "needs_background": "light"
     },
     "output_type": "display_data"
    }
   ],
   "source": [
    "test.plot(figsize=(12,8))"
   ]
  },
  {
   "cell_type": "code",
   "execution_count": 56,
   "id": "65090f62",
   "metadata": {},
   "outputs": [],
   "source": [
    "full_scaler = MinMaxScaler()\n",
    "scaled_full_data = full_scaler.fit_transform(df)"
   ]
  },
  {
   "cell_type": "code",
   "execution_count": 57,
   "id": "4f3052e9",
   "metadata": {},
   "outputs": [],
   "source": [
    "length = 12 # Length of the output sequences (in number of timesteps)\n",
    "generator = TimeseriesGenerator(scaled_full_data, scaled_full_data, length=length, batch_size=1)"
   ]
  },
  {
   "cell_type": "code",
   "execution_count": 58,
   "id": "1632af54",
   "metadata": {},
   "outputs": [
    {
     "name": "stderr",
     "output_type": "stream",
     "text": [
      "C:\\ProgramData\\Anaconda3\\lib\\site-packages\\keras\\engine\\training.py:1972: UserWarning: `Model.fit_generator` is deprecated and will be removed in a future version. Please use `Model.fit`, which supports generators.\n",
      "  warnings.warn('`Model.fit_generator` is deprecated and '\n"
     ]
    },
    {
     "name": "stdout",
     "output_type": "stream",
     "text": [
      "Epoch 1/8\n",
      "421/421 [==============================] - 8s 11ms/step - loss: 0.0148\n",
      "Epoch 2/8\n",
      "421/421 [==============================] - 5s 11ms/step - loss: 0.0036\n",
      "Epoch 3/8\n",
      "421/421 [==============================] - 4s 10ms/step - loss: 0.0023\n",
      "Epoch 4/8\n",
      "421/421 [==============================] - 4s 10ms/step - loss: 0.0020\n",
      "Epoch 5/8\n",
      "421/421 [==============================] - 4s 10ms/step - loss: 0.0018\n",
      "Epoch 6/8\n",
      "421/421 [==============================] - 4s 10ms/step - loss: 0.0018\n",
      "Epoch 7/8\n",
      "421/421 [==============================] - 4s 10ms/step - loss: 0.0015\n",
      "Epoch 8/8\n",
      "421/421 [==============================] - 4s 10ms/step - loss: 0.0013\n"
     ]
    },
    {
     "data": {
      "text/plain": [
       "<keras.callbacks.History at 0x2494176e850>"
      ]
     },
     "execution_count": 58,
     "metadata": {},
     "output_type": "execute_result"
    }
   ],
   "source": [
    "model = Sequential()\n",
    "model.add(LSTM(100, activation='relu', input_shape=(length, n_features)))\n",
    "\n",
    "model.add(Dense(1))\n",
    "model.compile(optimizer='adam', loss='mse')\n",
    "\n",
    "\n",
    "# fit model\n",
    "model.fit_generator(generator,epochs=8)"
   ]
  },
  {
   "cell_type": "code",
   "execution_count": 59,
   "id": "ffe7dc9a",
   "metadata": {},
   "outputs": [],
   "source": [
    "forecast = []\n",
    "# Replace periods with whatever forecast length you want\n",
    "periods = 24\n",
    "\n",
    "first_eval_batch = scaled_full_data[-length:]\n",
    "current_batch = first_eval_batch.reshape((1, length, n_features))\n",
    "\n",
    "for i in range(periods):\n",
    "    \n",
    "    # get prediction 1 time stamp ahead ([0] is for grabbing just the number instead of [array])\n",
    "    current_pred = model.predict(current_batch)[0]\n",
    "    \n",
    "    # store prediction\n",
    "    forecast.append(current_pred) \n",
    "    \n",
    "    # update batch to now include prediction and drop first value\n",
    "    current_batch = np.append(current_batch[:,1:,:],[[current_pred]],axis=1)"
   ]
  },
  {
   "cell_type": "code",
   "execution_count": 60,
   "id": "67274ccf",
   "metadata": {},
   "outputs": [],
   "source": [
    "forecast = scaler.inverse_transform(forecast)"
   ]
  },
  {
   "cell_type": "code",
   "execution_count": 61,
   "id": "c27c9337",
   "metadata": {},
   "outputs": [
    {
     "data": {
      "text/plain": [
       "array([[416.99862666],\n",
       "       [422.15687344],\n",
       "       [427.61470106],\n",
       "       [432.91095296],\n",
       "       [437.96869919],\n",
       "       [442.90009537],\n",
       "       [447.74557611],\n",
       "       [452.46483701],\n",
       "       [457.26132089],\n",
       "       [462.11647078],\n",
       "       [467.00889735],\n",
       "       [471.92717344],\n",
       "       [476.84753311],\n",
       "       [481.77173439],\n",
       "       [486.70606061],\n",
       "       [491.64953508],\n",
       "       [496.6015718 ],\n",
       "       [501.5672495 ],\n",
       "       [506.5490099 ],\n",
       "       [511.53695594],\n",
       "       [516.54017078],\n",
       "       [521.56243091],\n",
       "       [526.60539669],\n",
       "       [531.66932857]])"
      ]
     },
     "execution_count": 61,
     "metadata": {},
     "output_type": "execute_result"
    }
   ],
   "source": [
    "forecast"
   ]
  },
  {
   "cell_type": "code",
   "execution_count": 63,
   "id": "76f148e0",
   "metadata": {},
   "outputs": [],
   "source": [
    "forecast_index = pd.date_range(start='2021-09-20',periods=periods,freq='B')"
   ]
  },
  {
   "cell_type": "code",
   "execution_count": 64,
   "id": "50cf9e52",
   "metadata": {},
   "outputs": [
    {
     "data": {
      "text/plain": [
       "DatetimeIndex(['2021-09-20', '2021-09-21', '2021-09-22', '2021-09-23',\n",
       "               '2021-09-24', '2021-09-27', '2021-09-28', '2021-09-29',\n",
       "               '2021-09-30', '2021-10-01', '2021-10-04', '2021-10-05',\n",
       "               '2021-10-06', '2021-10-07', '2021-10-08', '2021-10-11',\n",
       "               '2021-10-12', '2021-10-13', '2021-10-14', '2021-10-15',\n",
       "               '2021-10-18', '2021-10-19', '2021-10-20', '2021-10-21'],\n",
       "              dtype='datetime64[ns]', freq='B')"
      ]
     },
     "execution_count": 64,
     "metadata": {},
     "output_type": "execute_result"
    }
   ],
   "source": [
    "forecast_index"
   ]
  },
  {
   "cell_type": "code",
   "execution_count": 65,
   "id": "a7ae9ee4",
   "metadata": {},
   "outputs": [],
   "source": [
    "forecast_df = pd.DataFrame(data=forecast,index=forecast_index,\n",
    "                           columns=['Forecast'])"
   ]
  },
  {
   "cell_type": "code",
   "execution_count": 66,
   "id": "42a866b8",
   "metadata": {},
   "outputs": [
    {
     "data": {
      "text/html": [
       "<div>\n",
       "<style scoped>\n",
       "    .dataframe tbody tr th:only-of-type {\n",
       "        vertical-align: middle;\n",
       "    }\n",
       "\n",
       "    .dataframe tbody tr th {\n",
       "        vertical-align: top;\n",
       "    }\n",
       "\n",
       "    .dataframe thead th {\n",
       "        text-align: right;\n",
       "    }\n",
       "</style>\n",
       "<table border=\"1\" class=\"dataframe\">\n",
       "  <thead>\n",
       "    <tr style=\"text-align: right;\">\n",
       "      <th></th>\n",
       "      <th>Forecast</th>\n",
       "    </tr>\n",
       "  </thead>\n",
       "  <tbody>\n",
       "    <tr>\n",
       "      <th>2021-09-20</th>\n",
       "      <td>416.998627</td>\n",
       "    </tr>\n",
       "    <tr>\n",
       "      <th>2021-09-21</th>\n",
       "      <td>422.156873</td>\n",
       "    </tr>\n",
       "    <tr>\n",
       "      <th>2021-09-22</th>\n",
       "      <td>427.614701</td>\n",
       "    </tr>\n",
       "    <tr>\n",
       "      <th>2021-09-23</th>\n",
       "      <td>432.910953</td>\n",
       "    </tr>\n",
       "    <tr>\n",
       "      <th>2021-09-24</th>\n",
       "      <td>437.968699</td>\n",
       "    </tr>\n",
       "    <tr>\n",
       "      <th>2021-09-27</th>\n",
       "      <td>442.900095</td>\n",
       "    </tr>\n",
       "    <tr>\n",
       "      <th>2021-09-28</th>\n",
       "      <td>447.745576</td>\n",
       "    </tr>\n",
       "    <tr>\n",
       "      <th>2021-09-29</th>\n",
       "      <td>452.464837</td>\n",
       "    </tr>\n",
       "    <tr>\n",
       "      <th>2021-09-30</th>\n",
       "      <td>457.261321</td>\n",
       "    </tr>\n",
       "    <tr>\n",
       "      <th>2021-10-01</th>\n",
       "      <td>462.116471</td>\n",
       "    </tr>\n",
       "    <tr>\n",
       "      <th>2021-10-04</th>\n",
       "      <td>467.008897</td>\n",
       "    </tr>\n",
       "    <tr>\n",
       "      <th>2021-10-05</th>\n",
       "      <td>471.927173</td>\n",
       "    </tr>\n",
       "    <tr>\n",
       "      <th>2021-10-06</th>\n",
       "      <td>476.847533</td>\n",
       "    </tr>\n",
       "    <tr>\n",
       "      <th>2021-10-07</th>\n",
       "      <td>481.771734</td>\n",
       "    </tr>\n",
       "    <tr>\n",
       "      <th>2021-10-08</th>\n",
       "      <td>486.706061</td>\n",
       "    </tr>\n",
       "    <tr>\n",
       "      <th>2021-10-11</th>\n",
       "      <td>491.649535</td>\n",
       "    </tr>\n",
       "    <tr>\n",
       "      <th>2021-10-12</th>\n",
       "      <td>496.601572</td>\n",
       "    </tr>\n",
       "    <tr>\n",
       "      <th>2021-10-13</th>\n",
       "      <td>501.567250</td>\n",
       "    </tr>\n",
       "    <tr>\n",
       "      <th>2021-10-14</th>\n",
       "      <td>506.549010</td>\n",
       "    </tr>\n",
       "    <tr>\n",
       "      <th>2021-10-15</th>\n",
       "      <td>511.536956</td>\n",
       "    </tr>\n",
       "    <tr>\n",
       "      <th>2021-10-18</th>\n",
       "      <td>516.540171</td>\n",
       "    </tr>\n",
       "    <tr>\n",
       "      <th>2021-10-19</th>\n",
       "      <td>521.562431</td>\n",
       "    </tr>\n",
       "    <tr>\n",
       "      <th>2021-10-20</th>\n",
       "      <td>526.605397</td>\n",
       "    </tr>\n",
       "    <tr>\n",
       "      <th>2021-10-21</th>\n",
       "      <td>531.669329</td>\n",
       "    </tr>\n",
       "  </tbody>\n",
       "</table>\n",
       "</div>"
      ],
      "text/plain": [
       "              Forecast\n",
       "2021-09-20  416.998627\n",
       "2021-09-21  422.156873\n",
       "2021-09-22  427.614701\n",
       "2021-09-23  432.910953\n",
       "2021-09-24  437.968699\n",
       "2021-09-27  442.900095\n",
       "2021-09-28  447.745576\n",
       "2021-09-29  452.464837\n",
       "2021-09-30  457.261321\n",
       "2021-10-01  462.116471\n",
       "2021-10-04  467.008897\n",
       "2021-10-05  471.927173\n",
       "2021-10-06  476.847533\n",
       "2021-10-07  481.771734\n",
       "2021-10-08  486.706061\n",
       "2021-10-11  491.649535\n",
       "2021-10-12  496.601572\n",
       "2021-10-13  501.567250\n",
       "2021-10-14  506.549010\n",
       "2021-10-15  511.536956\n",
       "2021-10-18  516.540171\n",
       "2021-10-19  521.562431\n",
       "2021-10-20  526.605397\n",
       "2021-10-21  531.669329"
      ]
     },
     "execution_count": 66,
     "metadata": {},
     "output_type": "execute_result"
    }
   ],
   "source": [
    "forecast_df"
   ]
  },
  {
   "cell_type": "code",
   "execution_count": 67,
   "id": "86fb2d55",
   "metadata": {},
   "outputs": [
    {
     "data": {
      "text/plain": [
       "<AxesSubplot:>"
      ]
     },
     "execution_count": 67,
     "metadata": {},
     "output_type": "execute_result"
    },
    {
     "data": {
      "image/png": "[encoded data removed]",
      "text/plain": [
       "<Figure size 864x576 with 1 Axes>"
      ]
     },
     "metadata": {
      "needs_background": "light"
     },
     "output_type": "display_data"
    },
    {
     "data": {
      "image/png": "[encoded data removed]",
      "text/plain": [
       "<Figure size 864x576 with 1 Axes>"
      ]
     },
     "metadata": {
      "needs_background": "light"
     },
     "output_type": "display_data"
    }
   ],
   "source": [
    "df.plot(figsize=(12,8))\n",
    "forecast_df.plot(figsize=(12,8))"
   ]
  },
  {
   "cell_type": "code",
   "execution_count": 68,
   "id": "796a1e04",
   "metadata": {},
   "outputs": [
    {
     "data": {
      "text/plain": [
       "<AxesSubplot:>"
      ]
     },
     "execution_count": 68,
     "metadata": {},
     "output_type": "execute_result"
    },
    {
     "data": {
      "image/png": "[encoded data removed]",
      "text/plain": [
       "<Figure size 432x288 with 1 Axes>"
      ]
     },
     "metadata": {
      "needs_background": "light"
     },
     "output_type": "display_data"
    },
    {
     "data": {
      "image/png": "[encoded data removed]",
      "text/plain": [
       "<Figure size 432x288 with 1 Axes>"
      ]
     },
     "metadata": {
      "needs_background": "light"
     },
     "output_type": "display_data"
    }
   ],
   "source": [
    "df.plot()\n",
    "forecast_df.plot()"
   ]
  },
  {
   "cell_type": "code",
   "execution_count": null,
   "id": "1cd64cdd",
   "metadata": {},
   "outputs": [],
   "source": []
  }
 ],
 "metadata": {
  "kernelspec": {
   "display_name": "Python 3",
   "language": "python",
   "name": "python3"
  },
  "language_info": {
   "codemirror_mode": {
    "name": "ipython",
    "version": 3
   },
   "file_extension": ".py",
   "mimetype": "text/x-python",
   "name": "python",
   "nbconvert_exporter": "python",
   "pygments_lexer": "ipython3",
   "version": "3.8.8"
  }
 },
 "nbformat": 4,
 "nbformat_minor": 5
}
